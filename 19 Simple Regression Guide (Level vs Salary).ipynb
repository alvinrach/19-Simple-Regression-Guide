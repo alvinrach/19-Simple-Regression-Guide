{
 "cells": [
  {
   "cell_type": "markdown",
   "id": "1dc27176",
   "metadata": {},
   "source": [
    "<b>Regression Problem: A super straightforward guide about characteristic of some regression model<b>"
   ]
  },
  {
   "cell_type": "code",
   "execution_count": 94,
   "id": "fcb9d4d1",
   "metadata": {},
   "outputs": [],
   "source": [
    "import pandas as pd\n",
    "import numpy as np\n",
    "import matplotlib.pyplot as plt\n",
    "from sklearn.model_selection import train_test_split\n",
    "from sklearn.svm import SVR\n",
    "from IPython.core.interactiveshell import InteractiveShell\n",
    "InteractiveShell.ast_node_interactivity = \"last_expr_or_assign\""
   ]
  },
  {
   "cell_type": "code",
   "execution_count": 95,
   "id": "c1f87de6",
   "metadata": {},
   "outputs": [
    {
     "data": {
      "text/html": [
       "<div>\n",
       "<style scoped>\n",
       "    .dataframe tbody tr th:only-of-type {\n",
       "        vertical-align: middle;\n",
       "    }\n",
       "\n",
       "    .dataframe tbody tr th {\n",
       "        vertical-align: top;\n",
       "    }\n",
       "\n",
       "    .dataframe thead th {\n",
       "        text-align: right;\n",
       "    }\n",
       "</style>\n",
       "<table border=\"1\" class=\"dataframe\">\n",
       "  <thead>\n",
       "    <tr style=\"text-align: right;\">\n",
       "      <th></th>\n",
       "      <th>Position</th>\n",
       "      <th>Level</th>\n",
       "      <th>Salary</th>\n",
       "    </tr>\n",
       "  </thead>\n",
       "  <tbody>\n",
       "    <tr>\n",
       "      <th>0</th>\n",
       "      <td>Business Analyst</td>\n",
       "      <td>1</td>\n",
       "      <td>45000</td>\n",
       "    </tr>\n",
       "    <tr>\n",
       "      <th>1</th>\n",
       "      <td>Junior Consultant</td>\n",
       "      <td>2</td>\n",
       "      <td>50000</td>\n",
       "    </tr>\n",
       "    <tr>\n",
       "      <th>2</th>\n",
       "      <td>Senior Consultant</td>\n",
       "      <td>3</td>\n",
       "      <td>60000</td>\n",
       "    </tr>\n",
       "    <tr>\n",
       "      <th>3</th>\n",
       "      <td>Manager</td>\n",
       "      <td>4</td>\n",
       "      <td>80000</td>\n",
       "    </tr>\n",
       "    <tr>\n",
       "      <th>4</th>\n",
       "      <td>Country Manager</td>\n",
       "      <td>5</td>\n",
       "      <td>110000</td>\n",
       "    </tr>\n",
       "    <tr>\n",
       "      <th>5</th>\n",
       "      <td>Region Manager</td>\n",
       "      <td>6</td>\n",
       "      <td>150000</td>\n",
       "    </tr>\n",
       "    <tr>\n",
       "      <th>6</th>\n",
       "      <td>Partner</td>\n",
       "      <td>7</td>\n",
       "      <td>200000</td>\n",
       "    </tr>\n",
       "    <tr>\n",
       "      <th>7</th>\n",
       "      <td>Senior Partner</td>\n",
       "      <td>8</td>\n",
       "      <td>300000</td>\n",
       "    </tr>\n",
       "    <tr>\n",
       "      <th>8</th>\n",
       "      <td>C-level</td>\n",
       "      <td>9</td>\n",
       "      <td>500000</td>\n",
       "    </tr>\n",
       "    <tr>\n",
       "      <th>9</th>\n",
       "      <td>CEO</td>\n",
       "      <td>10</td>\n",
       "      <td>1000000</td>\n",
       "    </tr>\n",
       "  </tbody>\n",
       "</table>\n",
       "</div>"
      ],
      "text/plain": [
       "            Position  Level   Salary\n",
       "0   Business Analyst      1    45000\n",
       "1  Junior Consultant      2    50000\n",
       "2  Senior Consultant      3    60000\n",
       "3            Manager      4    80000\n",
       "4    Country Manager      5   110000\n",
       "5     Region Manager      6   150000\n",
       "6            Partner      7   200000\n",
       "7     Senior Partner      8   300000\n",
       "8            C-level      9   500000\n",
       "9                CEO     10  1000000"
      ]
     },
     "execution_count": 95,
     "metadata": {},
     "output_type": "execute_result"
    }
   ],
   "source": [
    "d=pd.read_csv('https://raw.githubusercontent.com/harshitroy2605/support-vector-regression/master/Position_Salaries.csv')"
   ]
  },
  {
   "cell_type": "code",
   "execution_count": 96,
   "id": "daaafa97",
   "metadata": {},
   "outputs": [],
   "source": [
    "X=d[['Level']]\n",
    "y=d[['Salary']];"
   ]
  },
  {
   "cell_type": "code",
   "execution_count": 97,
   "id": "830c46bb",
   "metadata": {},
   "outputs": [
    {
     "data": {
      "text/plain": [
       "array([[-0.72004253],\n",
       "       [-0.70243757],\n",
       "       [-0.66722767],\n",
       "       [-0.59680786],\n",
       "       [-0.49117815],\n",
       "       [-0.35033854],\n",
       "       [-0.17428902],\n",
       "       [ 0.17781001],\n",
       "       [ 0.88200808],\n",
       "       [ 2.64250325]])"
      ]
     },
     "execution_count": 97,
     "metadata": {},
     "output_type": "execute_result"
    }
   ],
   "source": [
    "from sklearn.preprocessing import StandardScaler\n",
    "scaler=StandardScaler()\n",
    "X=scaler.fit_transform(X)\n",
    "y=scaler.fit_transform(y)"
   ]
  },
  {
   "cell_type": "code",
   "execution_count": 98,
   "id": "19fe1d1b",
   "metadata": {},
   "outputs": [
    {
     "data": {
      "text/plain": [
       "SVR()"
      ]
     },
     "execution_count": 98,
     "metadata": {},
     "output_type": "execute_result"
    }
   ],
   "source": [
    "model=SVR()\n",
    "model.fit(X,y.ravel())"
   ]
  },
  {
   "cell_type": "code",
   "execution_count": 99,
   "id": "2b4ee6eb",
   "metadata": {},
   "outputs": [
    {
     "data": {
      "image/png": "[encoded data removed]",
      "text/plain": [
       "<Figure size 432x288 with 1 Axes>"
      ]
     },
     "metadata": {
      "needs_background": "light"
     },
     "output_type": "display_data"
    }
   ],
   "source": [
    "X_grid=np.linspace(-np.array(X).max()*3, np.array(X).max()*3, 10000)\n",
    "X_grid=X_grid.reshape(-1,1)\n",
    "plt.scatter(X, y, color='red')\n",
    "plt.plot(X_grid, model.predict(X_grid));"
   ]
  },
  {
   "cell_type": "code",
   "execution_count": null,
   "id": "96593102",
   "metadata": {},
   "outputs": [],
   "source": []
  },
  {
   "cell_type": "markdown",
   "id": "904ea4b3",
   "metadata": {},
   "source": [
    "KNN: with and without scaling"
   ]
  },
  {
   "cell_type": "code",
   "execution_count": 100,
   "id": "dbd944ec",
   "metadata": {
    "scrolled": true
   },
   "outputs": [
    {
     "data": {
      "text/plain": [
       "KNeighborsRegressor()"
      ]
     },
     "execution_count": 100,
     "metadata": {},
     "output_type": "execute_result"
    }
   ],
   "source": [
    "from sklearn.neighbors import KNeighborsRegressor\n",
    "model=KNeighborsRegressor()\n",
    "model.fit(X,y)"
   ]
  },
  {
   "cell_type": "code",
   "execution_count": 101,
   "id": "35e0e367",
   "metadata": {
    "scrolled": true
   },
   "outputs": [
    {
     "data": {
      "image/png": "[encoded data removed]",
      "text/plain": [
       "<Figure size 432x288 with 1 Axes>"
      ]
     },
     "metadata": {
      "needs_background": "light"
     },
     "output_type": "display_data"
    }
   ],
   "source": [
    "X_grid=np.linspace(-np.array(X).max()*2, np.array(X).max()*2, 10000)\n",
    "X_grid=X_grid.reshape(-1,1)\n",
    "plt.scatter(X, y, color='red')\n",
    "plt.plot(X_grid, model.predict(X_grid));"
   ]
  },
  {
   "cell_type": "code",
   "execution_count": null,
   "id": "69268544",
   "metadata": {},
   "outputs": [],
   "source": []
  },
  {
   "cell_type": "code",
   "execution_count": 102,
   "id": "2d579a7c",
   "metadata": {},
   "outputs": [],
   "source": [
    "X=d[['Level']]\n",
    "y=d['Salary'];"
   ]
  },
  {
   "cell_type": "code",
   "execution_count": 103,
   "id": "de1bce0b",
   "metadata": {},
   "outputs": [
    {
     "data": {
      "text/plain": [
       "LinearRegression()"
      ]
     },
     "execution_count": 103,
     "metadata": {},
     "output_type": "execute_result"
    }
   ],
   "source": [
    "from sklearn.linear_model import LinearRegression\n",
    "model=LinearRegression()\n",
    "model.fit(X,y)"
   ]
  },
  {
   "cell_type": "code",
   "execution_count": 104,
   "id": "5edb4a75",
   "metadata": {
    "scrolled": true
   },
   "outputs": [
    {
     "data": {
      "image/png": "[encoded data removed]",
      "text/plain": [
       "<Figure size 432x288 with 1 Axes>"
      ]
     },
     "metadata": {
      "needs_background": "light"
     },
     "output_type": "display_data"
    }
   ],
   "source": [
    "X_grid=np.linspace(-np.array(X).max()*0.5, np.array(X).max()*2, 10000)\n",
    "X_grid=X_grid.reshape(-1,1)\n",
    "plt.scatter(X, y, color='red')\n",
    "plt.plot(X_grid, model.predict(X_grid));"
   ]
  },
  {
   "cell_type": "code",
   "execution_count": null,
   "id": "41bcba5d",
   "metadata": {},
   "outputs": [],
   "source": []
  },
  {
   "cell_type": "code",
   "execution_count": 105,
   "id": "e7bd190b",
   "metadata": {},
   "outputs": [],
   "source": [
    "X=d[['Level']];\n",
    "y=d['Salary'];"
   ]
  },
  {
   "cell_type": "code",
   "execution_count": 106,
   "id": "cb8c378a",
   "metadata": {
    "scrolled": true
   },
   "outputs": [
    {
     "data": {
      "text/plain": [
       "KNeighborsRegressor()"
      ]
     },
     "execution_count": 106,
     "metadata": {},
     "output_type": "execute_result"
    }
   ],
   "source": [
    "from sklearn.neighbors import KNeighborsRegressor\n",
    "model=KNeighborsRegressor()\n",
    "model.fit(X,y)"
   ]
  },
  {
   "cell_type": "code",
   "execution_count": 107,
   "id": "182ad4af",
   "metadata": {
    "scrolled": true
   },
   "outputs": [
    {
     "data": {
      "image/png": "[encoded data removed]",
      "text/plain": [
       "<Figure size 432x288 with 1 Axes>"
      ]
     },
     "metadata": {
      "needs_background": "light"
     },
     "output_type": "display_data"
    }
   ],
   "source": [
    "X_grid=np.linspace(-np.array(X).max()*1, np.array(X).max()*1.5, 10000)\n",
    "X_grid=X_grid.reshape(-1,1)\n",
    "plt.scatter(X, y, color='red')\n",
    "plt.plot(X_grid, model.predict(X_grid));"
   ]
  },
  {
   "cell_type": "code",
   "execution_count": null,
   "id": "499c3c48",
   "metadata": {},
   "outputs": [],
   "source": []
  },
  {
   "cell_type": "code",
   "execution_count": 108,
   "id": "f8eb32ef",
   "metadata": {},
   "outputs": [],
   "source": [
    "X=d[['Level']]\n",
    "y=d['Salary'];"
   ]
  },
  {
   "cell_type": "code",
   "execution_count": 109,
   "id": "6ed0ea87",
   "metadata": {},
   "outputs": [
    {
     "data": {
      "text/plain": [
       "RandomForestRegressor(n_estimators=50, random_state=0)"
      ]
     },
     "execution_count": 109,
     "metadata": {},
     "output_type": "execute_result"
    }
   ],
   "source": [
    "from sklearn.ensemble import RandomForestRegressor\n",
    "model=RandomForestRegressor(n_estimators=50, random_state=0)\n",
    "model.fit(X,y)"
   ]
  },
  {
   "cell_type": "code",
   "execution_count": 110,
   "id": "fa1634f2",
   "metadata": {},
   "outputs": [
    {
     "data": {
      "image/png": "[encoded data removed]",
      "text/plain": [
       "<Figure size 432x288 with 1 Axes>"
      ]
     },
     "metadata": {
      "needs_background": "light"
     },
     "output_type": "display_data"
    }
   ],
   "source": [
    "X_grid=np.linspace(-np.array(X).max()*0.5, np.array(X).max()*2, 10000)\n",
    "X_grid=X_grid.reshape(-1,1)\n",
    "plt.scatter(X, y, color='red')\n",
    "plt.plot(X_grid, model.predict(X_grid));"
   ]
  },
  {
   "cell_type": "code",
   "execution_count": null,
   "id": "20cc4ae7",
   "metadata": {},
   "outputs": [],
   "source": []
  },
  {
   "cell_type": "code",
   "execution_count": 111,
   "id": "758b5bb7",
   "metadata": {},
   "outputs": [],
   "source": [
    "X=d[['Level']]\n",
    "y=d['Salary'];"
   ]
  },
  {
   "cell_type": "code",
   "execution_count": 112,
   "id": "a9bed4b7",
   "metadata": {},
   "outputs": [
    {
     "data": {
      "text/plain": [
       "DecisionTreeRegressor(random_state=1)"
      ]
     },
     "execution_count": 112,
     "metadata": {},
     "output_type": "execute_result"
    }
   ],
   "source": [
    "from sklearn.tree import DecisionTreeRegressor\n",
    "model=DecisionTreeRegressor(random_state=1)\n",
    "model.fit(X,y)"
   ]
  },
  {
   "cell_type": "code",
   "execution_count": 113,
   "id": "7f824346",
   "metadata": {
    "scrolled": true
   },
   "outputs": [
    {
     "data": {
      "image/png": "[encoded data removed]",
      "text/plain": [
       "<Figure size 432x288 with 1 Axes>"
      ]
     },
     "metadata": {
      "needs_background": "light"
     },
     "output_type": "display_data"
    }
   ],
   "source": [
    "X_grid=np.linspace(-np.array(X).max()*0.5, np.array(X).max()*2, 10000)\n",
    "X_grid=X_grid.reshape(-1,1)\n",
    "plt.scatter(X, y, color='red')\n",
    "plt.plot(X_grid, model.predict(X_grid))\n",
    "plt.title(model);"
   ]
  },
  {
   "cell_type": "code",
   "execution_count": null,
   "id": "3a25cbbe",
   "metadata": {},
   "outputs": [],
   "source": []
  },
  {
   "cell_type": "code",
   "execution_count": 114,
   "id": "0526050b",
   "metadata": {},
   "outputs": [],
   "source": [
    "X=d[['Level']]\n",
    "y=d['Salary'];"
   ]
  },
  {
   "cell_type": "code",
   "execution_count": 115,
   "id": "8c056aa8",
   "metadata": {},
   "outputs": [
    {
     "data": {
      "text/plain": [
       "Perceptron()"
      ]
     },
     "execution_count": 115,
     "metadata": {},
     "output_type": "execute_result"
    }
   ],
   "source": [
    "from sklearn.linear_model import Perceptron\n",
    "model=Perceptron()\n",
    "model.fit(X,y)"
   ]
  },
  {
   "cell_type": "code",
   "execution_count": 116,
   "id": "28a713d8",
   "metadata": {
    "scrolled": true
   },
   "outputs": [
    {
     "data": {
      "image/png": "[encoded data removed]",
      "text/plain": [
       "<Figure size 432x288 with 1 Axes>"
      ]
     },
     "metadata": {
      "needs_background": "light"
     },
     "output_type": "display_data"
    }
   ],
   "source": [
    "X_grid=np.linspace(-np.array(X).max()*0.5, np.array(X).max()*1, 10000)\n",
    "X_grid=X_grid.reshape(-1,1)\n",
    "plt.scatter(X, y, color='red')\n",
    "plt.plot(X_grid, model.predict(X_grid));"
   ]
  },
  {
   "cell_type": "code",
   "execution_count": null,
   "id": "2d779671",
   "metadata": {},
   "outputs": [],
   "source": []
  },
  {
   "cell_type": "code",
   "execution_count": 117,
   "id": "c53ed8fa",
   "metadata": {},
   "outputs": [],
   "source": [
    "X=d[['Level']]\n",
    "y=d['Salary'];"
   ]
  },
  {
   "cell_type": "code",
   "execution_count": 118,
   "id": "cd2749ea",
   "metadata": {},
   "outputs": [
    {
     "data": {
      "text/plain": [
       "LinearRegression()"
      ]
     },
     "execution_count": 118,
     "metadata": {},
     "output_type": "execute_result"
    }
   ],
   "source": [
    "from sklearn.linear_model import LinearRegression\n",
    "from sklearn.preprocessing import PolynomialFeatures\n",
    "\n",
    "pol=PolynomialFeatures()\n",
    "\n",
    "pol_fit=pol.fit_transform(X)\n",
    "\n",
    "model=LinearRegression()\n",
    "model.fit(pol_fit, y)"
   ]
  },
  {
   "cell_type": "code",
   "execution_count": 119,
   "id": "a1fbcb74",
   "metadata": {
    "scrolled": true
   },
   "outputs": [
    {
     "data": {
      "image/png": "[encoded data removed]",
      "text/plain": [
       "<Figure size 432x288 with 1 Axes>"
      ]
     },
     "metadata": {
      "needs_background": "light"
     },
     "output_type": "display_data"
    }
   ],
   "source": [
    "X_grid=np.linspace(-np.array(X).max()*0.5, np.array(X).max()*2, 10000)\n",
    "X_grid=X_grid.reshape(-1,1)\n",
    "plt.scatter(X, y, color='red')\n",
    "plt.plot(X_grid, model.predict(pol.fit_transform(X_grid)));"
   ]
  },
  {
   "cell_type": "code",
   "execution_count": null,
   "id": "c7dca63c",
   "metadata": {},
   "outputs": [],
   "source": []
  },
  {
   "cell_type": "markdown",
   "id": "b1c63352",
   "metadata": {},
   "source": [
    "Example of wrong model to be used in regression problem. Logistic regression indeed is a classification model (just try with y(target) as float and you get the error)!"
   ]
  },
  {
   "cell_type": "code",
   "execution_count": 120,
   "id": "62137aa4",
   "metadata": {},
   "outputs": [],
   "source": [
    "X=d[['Level']]\n",
    "y=d['Salary'];"
   ]
  },
  {
   "cell_type": "code",
   "execution_count": 121,
   "id": "2579259d",
   "metadata": {},
   "outputs": [
    {
     "data": {
      "text/plain": [
       "LogisticRegression(max_iter=1000)"
      ]
     },
     "execution_count": 121,
     "metadata": {},
     "output_type": "execute_result"
    }
   ],
   "source": [
    "from sklearn.linear_model import LogisticRegression\n",
    "model=LogisticRegression(max_iter=1000)\n",
    "model.fit(X,y)"
   ]
  },
  {
   "cell_type": "code",
   "execution_count": 122,
   "id": "33ae6356",
   "metadata": {
    "scrolled": true
   },
   "outputs": [
    {
     "data": {
      "image/png": "[encoded data removed]",
      "text/plain": [
       "<Figure size 432x288 with 1 Axes>"
      ]
     },
     "metadata": {
      "needs_background": "light"
     },
     "output_type": "display_data"
    }
   ],
   "source": [
    "X_grid=np.linspace(-np.array(X).max()*0.5, np.array(X).max()*2, 10000)\n",
    "X_grid=X_grid.reshape(-1,1)\n",
    "plt.scatter(X, y, color='red')\n",
    "plt.plot(X_grid, model.predict(X_grid));"
   ]
  },
  {
   "cell_type": "code",
   "execution_count": null,
   "id": "e39b175b",
   "metadata": {},
   "outputs": [],
   "source": []
  }
 ],
 "metadata": {
  "kernelspec": {
   "display_name": "Python 3",
   "language": "python",
   "name": "python3"
  },
  "language_info": {
   "codemirror_mode": {
    "name": "ipython",
    "version": 3
   },
   "file_extension": ".py",
   "mimetype": "text/x-python",
   "name": "python",
   "nbconvert_exporter": "python",
   "pygments_lexer": "ipython3",
   "version": "3.8.8"
  },
  "toc": {
   "base_numbering": 1,
   "nav_menu": {},
   "number_sections": true,
   "sideBar": true,
   "skip_h1_title": false,
   "title_cell": "Table of Contents",
   "title_sidebar": "Contents",
   "toc_cell": false,
   "toc_position": {},
   "toc_section_display": true,
   "toc_window_display": false
  }
 },
 "nbformat": 4,
 "nbformat_minor": 5
}
